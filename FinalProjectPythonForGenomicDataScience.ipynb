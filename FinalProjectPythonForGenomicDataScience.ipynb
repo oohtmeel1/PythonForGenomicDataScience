{
 "cells": [
  {
   "cell_type": "code",
   "execution_count": 36,
   "metadata": {},
   "outputs": [],
   "source": [
    "from Bio.Seq import Seq\n",
    "from Bio.Blast import NCBIWWW\n",
    "from Bio.Blast import NCBIXML\n",
    "from Bio import SeqIO\n",
    "from io import StringIO\n",
    "#To begin, import needed libraries\n",
    "\n"
   ]
  },
  {
   "cell_type": "code",
   "execution_count": 37,
   "metadata": {},
   "outputs": [
    {
     "name": "stdout",
     "output_type": "stream",
     "text": [
      "48593\n"
     ]
    }
   ],
   "source": [
    "# The provided file will be loaded. \n",
    "# Convert it to F\n",
    "fasta_string =open(\"C:\\gitfiles\\Projects\\Bioinformatics\\dna2.fasta\").read()\n",
    "f = fasta_string\n",
    "# How long is this anyway?  \n",
    "print(len(f))\n",
    "\n"
   ]
  },
  {
   "cell_type": "code",
   "execution_count": null,
   "metadata": {},
   "outputs": [],
   "source": []
  },
  {
   "cell_type": "code",
   "execution_count": 38,
   "metadata": {},
   "outputs": [
    {
     "data": {
      "text/plain": [
       "18"
      ]
     },
     "execution_count": 38,
     "metadata": {},
     "output_type": "execute_result"
    }
   ],
   "source": [
    "# How many times does '>' appear?\n",
    "f.count(\">\") # Keep it simple?\n"
   ]
  },
  {
   "cell_type": "code",
   "execution_count": 44,
   "metadata": {},
   "outputs": [],
   "source": [
    "# Just a basic Split\n",
    "f.split('>gi')\n",
    "value = f.split('>')\n",
    "fb = f"
   ]
  },
  {
   "cell_type": "code",
   "execution_count": 40,
   "metadata": {},
   "outputs": [
    {
     "name": "stdout",
     "output_type": "stream",
     "text": [
      "index 0, ID = gi|142022655|gb|EQ086233.1|91, length 4635, with 0 features\n",
      "index 1, ID = gi|142022655|gb|EQ086233.1|304, length 1151, with 0 features\n",
      "index 2, ID = gi|142022655|gb|EQ086233.1|255, length 4894, with 0 features\n",
      "index 3, ID = gi|142022655|gb|EQ086233.1|45, length 3511, with 0 features\n",
      "index 4, ID = gi|142022655|gb|EQ086233.1|396, length 4076, with 0 features\n",
      "index 5, ID = gi|142022655|gb|EQ086233.1|250, length 2867, with 0 features\n",
      "index 6, ID = gi|142022655|gb|EQ086233.1|322, length 442, with 0 features\n",
      "index 7, ID = gi|142022655|gb|EQ086233.1|88, length 890, with 0 features\n",
      "index 8, ID = gi|142022655|gb|EQ086233.1|594, length 967, with 0 features\n",
      "index 9, ID = gi|142022655|gb|EQ086233.1|293, length 4338, with 0 features\n",
      "index 10, ID = gi|142022655|gb|EQ086233.1|75, length 1352, with 0 features\n",
      "index 11, ID = gi|142022655|gb|EQ086233.1|454, length 4564, with 0 features\n",
      "index 12, ID = gi|142022655|gb|EQ086233.1|16, length 4804, with 0 features\n",
      "index 13, ID = gi|142022655|gb|EQ086233.1|584, length 964, with 0 features\n",
      "index 14, ID = gi|142022655|gb|EQ086233.1|4, length 2095, with 0 features\n",
      "index 15, ID = gi|142022655|gb|EQ086233.1|277, length 1432, with 0 features\n",
      "index 16, ID = gi|142022655|gb|EQ086233.1|346, length 115, with 0 features\n",
      "index 17, ID = gi|142022655|gb|EQ086233.1|527, length 2646, with 0 features\n"
     ]
    }
   ],
   "source": [
    "## How to parse the data using SeqIo\n",
    "for index, record in enumerate(SeqIO.parse(\"C:\\gitfiles\\Projects\\Bioinformatics\\dna2.fasta\", \"fasta\")):\n",
    "    print(\n",
    "        \"index %i, ID = %s, length %i, with %i features\"\n",
    "        % (index, record.id, len(record.seq), len(record.features))\n",
    "    )\n"
   ]
  },
  {
   "cell_type": "code",
   "execution_count": 77,
   "metadata": {},
   "outputs": [
    {
     "ename": "TypeError",
     "evalue": "sequence1() missing 1 required positional argument: 'fb'",
     "output_type": "error",
     "traceback": [
      "\u001b[1;31m---------------------------------------------------------------------------\u001b[0m",
      "\u001b[1;31mTypeError\u001b[0m                                 Traceback (most recent call last)",
      "Cell \u001b[1;32mIn [77], line 23\u001b[0m\n\u001b[0;32m     20\u001b[0m \t\t\t\t\t\t\tsequences \u001b[39m=\u001b[39m sequence1[\u001b[39m1\u001b[39m:]\n\u001b[0;32m     22\u001b[0m \t\t\t\t\t\t\t\u001b[39mreturn\u001b[39;00m sequences\n\u001b[1;32m---> 23\u001b[0m sequence1()\n",
      "\u001b[1;31mTypeError\u001b[0m: sequence1() missing 1 required positional argument: 'fb'"
     ]
    }
   ],
   "source": [
    "# My very messy code\n",
    "def sequence1(fb):\n",
    "\t\t\t\t\t\tf= open(fb, \"r\")\n",
    "\t\t\t\t\t\tfile = f.readlines()\n",
    "\t\t\t\t\t\t#print file\n",
    "\t\t\t\t\t\tsequences = []\n",
    "\t\t\t\t\t\tseq = \"\"\n",
    "\t\t\t\t\t\tfor f in file:\n",
    "\t\t\t\t\t\t\tif not f.startswith('>'):\n",
    "\t\t\t\t\t\t\t\tf = f.replace(\" \", \"\")\n",
    "\t\t\t\t\t\t\t\tf = f.replace(\"\\n\", \"\")\n",
    "\t\t\t\t\t\t\t\tseq = seq + f\n",
    "\t\t\t\t\t\t\telse:\n",
    "\t\t\t\t\t\t\t\tsequences.append(seq)\n",
    "\t\t\t\t\t\t\t\tseq = \"\"\n",
    "   \n",
    "   \n",
    "\t\t\t\t\t\t\tsequnce1.append(seq)\n",
    "   \n",
    "\t\t\t\t\t\t\tsequences = sequence1[1:]\n",
    "   \n",
    "\t\t\t\t\t\t\treturn sequences\n",
    "sequence1()"
   ]
  },
  {
   "cell_type": "code",
   "execution_count": 41,
   "metadata": {},
   "outputs": [
    {
     "ename": "AttributeError",
     "evalue": "'str' object has no attribute 'reverse_complement'",
     "output_type": "error",
     "traceback": [
      "\u001b[1;31m---------------------------------------------------------------------------\u001b[0m",
      "\u001b[1;31mAttributeError\u001b[0m                            Traceback (most recent call last)",
      "Cell \u001b[1;32mIn [41], line 4\u001b[0m\n\u001b[0;32m      1\u001b[0m table \u001b[39m=\u001b[39m \u001b[39m1\u001b[39m\n\u001b[0;32m      2\u001b[0m min_pro_len \u001b[39m=\u001b[39m \u001b[39m100\u001b[39m\n\u001b[1;32m----> 4\u001b[0m \u001b[39mfor\u001b[39;00m strand, nuc \u001b[39min\u001b[39;00m [(\u001b[39m+\u001b[39m\u001b[39m1\u001b[39m, f), (\u001b[39m-\u001b[39m\u001b[39m1\u001b[39m, f\u001b[39m.\u001b[39;49mreverse_complement())]:\n\u001b[0;32m      5\u001b[0m   \u001b[39mfor\u001b[39;00m frame \u001b[39min\u001b[39;00m \u001b[39mrange\u001b[39m(\u001b[39m3\u001b[39m):\n\u001b[0;32m      6\u001b[0m     \u001b[39mfor\u001b[39;00m pro \u001b[39min\u001b[39;00m nuc[frame:]\u001b[39m.\u001b[39mtranslate(table)\u001b[39m.\u001b[39msplit(\u001b[39m\"\u001b[39m\u001b[39m*\u001b[39m\u001b[39m\"\u001b[39m):\n",
      "\u001b[1;31mAttributeError\u001b[0m: 'str' object has no attribute 'reverse_complement'"
     ]
    }
   ],
   "source": [
    "def ORF(f):\n",
    "  sequence = sequ(fa)"
   ]
  },
  {
   "cell_type": "code",
   "execution_count": 76,
   "metadata": {},
   "outputs": [
    {
     "ename": "TypeError",
     "evalue": "object of type 'builtin_function_or_method' has no len()",
     "output_type": "error",
     "traceback": [
      "\u001b[1;31m---------------------------------------------------------------------------\u001b[0m",
      "\u001b[1;31mTypeError\u001b[0m                                 Traceback (most recent call last)",
      "Cell \u001b[1;32mIn [76], line 17\u001b[0m\n\u001b[0;32m     14\u001b[0m \t\t\t\t\t\u001b[39mbreak\u001b[39;00m\n\u001b[0;32m     15\u001b[0m \t\t\u001b[39mreturn\u001b[39;00m orf\n\u001b[1;32m---> 17\u001b[0m find_orf(\u001b[39mlen\u001b[39;49m(\u001b[39mmax\u001b[39;49m))\n",
      "\u001b[1;31mTypeError\u001b[0m: object of type 'builtin_function_or_method' has no len()"
     ]
    }
   ],
   "source": [
    "# ORF of a sequence\n",
    "def find_orf(sequence1,n):\n",
    "\t\tind=find_index(sequence1,n)\n",
    "\t\tstart_position = ind[0]\n",
    "\t\tstart_indexs = ind[1]\n",
    "\t\tstop_indexs = ind[2]\n",
    "\t\torf = []\n",
    "\t\tmark = 0\n",
    "\t\tfor i in range(0,len(start_indexs)):\n",
    "\t\t\tfor j in range(0, len(stop_indexs)):\n",
    "\t\t\t\tif start_indexs[i] < stop_indexs[j] and start_indexs[i] > mark:\n",
    "\t\t\t\t\torf.append(sequence1[start_indexs[i]:stop_indexs[j]+3])\n",
    "\t\t\t\t\tmark = stop_indexs[j]+3\n",
    "\t\t\t\t\tbreak\n",
    "\t\treturn orf\n",
    "\t\t\n"
   ]
  },
  {
   "cell_type": "code",
   "execution_count": 64,
   "metadata": {},
   "outputs": [
    {
     "ename": "NameError",
     "evalue": "name 'df' is not defined",
     "output_type": "error",
     "traceback": [
      "\u001b[1;31m---------------------------------------------------------------------------\u001b[0m",
      "\u001b[1;31mNameError\u001b[0m                                 Traceback (most recent call last)",
      "Cell \u001b[1;32mIn [64], line 1\u001b[0m\n\u001b[1;32m----> 1\u001b[0m df\n",
      "\u001b[1;31mNameError\u001b[0m: name 'df' is not defined"
     ]
    }
   ],
   "source": []
  },
  {
   "cell_type": "code",
   "execution_count": null,
   "metadata": {},
   "outputs": [],
   "source": []
  }
 ],
 "metadata": {
  "kernelspec": {
   "display_name": "Python 3",
   "language": "python",
   "name": "python3"
  },
  "language_info": {
   "codemirror_mode": {
    "name": "ipython",
    "version": 3
   },
   "file_extension": ".py",
   "mimetype": "text/x-python",
   "name": "python",
   "nbconvert_exporter": "python",
   "pygments_lexer": "ipython3",
   "version": "3.11.0"
  },
  "orig_nbformat": 4,
  "vscode": {
   "interpreter": {
    "hash": "1286dd79ec17c7492b98d3541bf18791336cf1448004270b6773d3e5d31fd4d6"
   }
  }
 },
 "nbformat": 4,
 "nbformat_minor": 2
}
